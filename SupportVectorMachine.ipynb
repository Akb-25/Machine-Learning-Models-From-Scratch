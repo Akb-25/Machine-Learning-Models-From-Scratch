{
 "cells": [
  {
   "cell_type": "code",
   "execution_count": 1,
   "metadata": {},
   "outputs": [],
   "source": [
    "import numpy as np"
   ]
  },
  {
   "cell_type": "code",
   "execution_count": null,
   "metadata": {},
   "outputs": [],
   "source": [
    "class SupportMachine():\n",
    "    def __init__(self,iter,lr,lp):\n",
    "        self.iter = iter\n",
    "        self.lr = lr\n",
    "        self.lp=lp\n",
    "    def fit(self,x,y):\n",
    "        self.m,self.n=x.shape\n",
    "        self.w=np.zeros(self.n)\n",
    "        self.b=0\n",
    "        self.x=x\n",
    "        self.y=y\n",
    "        for i in enumerate(self.iter):\n",
    "            self.update_weights()\n",
    "    def update_weights(self):\n",
    "        y_label=np.where(self.y<=0,-1,1)\n",
    "\n",
    "        for index,x_i in enumerate(self.x):\n",
    "            condition=y_label[index]*(np.dot(x_i,self.x)-self.b)>=1\n",
    "            if(condition==True):\n",
    "                dw=2*self.lp*self.w\n",
    "                db=0\n",
    "            else:\n",
    "                dw=2*self.lp*self.w-np.dot(x_i,y_label[index])\n",
    "                db=y_label[index]\n",
    "            self.w=self.w-self.lr*dw\n",
    "            self.b=self.b-self.lr*db\n",
    "    def predict(self,x):\n",
    "        output=np.dot(x,self.w)-self.b\n",
    "        predicted_label=np.sign(output)\n",
    "        y_hat=np.where(predicted_label<=0,0,1)\n",
    "        return y_hat"
   ]
  }
 ],
 "metadata": {
  "kernelspec": {
   "display_name": "base",
   "language": "python",
   "name": "python3"
  },
  "language_info": {
   "codemirror_mode": {
    "name": "ipython",
    "version": 3
   },
   "file_extension": ".py",
   "mimetype": "text/x-python",
   "name": "python",
   "nbconvert_exporter": "python",
   "pygments_lexer": "ipython3",
   "version": "3.9.13"
  }
 },
 "nbformat": 4,
 "nbformat_minor": 2
}
