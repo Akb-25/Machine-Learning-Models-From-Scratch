{
 "cells": [
  {
   "cell_type": "code",
   "execution_count": 21,
   "metadata": {},
   "outputs": [],
   "source": [
    "import numpy as np\n",
    "import matplotlib.pyplot as plt"
   ]
  },
  {
   "cell_type": "code",
   "execution_count": 22,
   "metadata": {},
   "outputs": [],
   "source": [
    "class linearRegression:\n",
    "    def __init__(self,lr=0.001,n_iter=100):\n",
    "        self.lr=lr\n",
    "        self.n_iter=n_iter\n",
    "        self.weights=None\n",
    "        self.bias=None\n",
    "    def fit(self,x,y):\n",
    "        n_samples,n_features=x.shape\n",
    "        self.weights=np.zeros(n_features)\n",
    "        self.bias=0\n",
    "        for _ in range(self.n_iter):\n",
    "            y_pred=np.dot(x,self.weights)+self.bias\n",
    "            #to find the gradient of the cost function with respect to weights\n",
    "            #t/n_samples is used to normalise the weights\n",
    "            dw=(1/n_samples)*np.dot(x.T,(y_pred-y))\n",
    "            db=(1/n_samples)*np.sum(y_pred-y)\n",
    "\n",
    "        self.weights=self.weights-dw*self.lr\n",
    "        self.bias=self.bias-db*self.lr\n",
    "    def predict(self,x):\n",
    "        y=np.dot(x,self.weights)+self.bias\n",
    "        return y"
   ]
  },
  {
   "cell_type": "code",
   "execution_count": null,
   "metadata": {},
   "outputs": [],
   "source": [
    "class LinearRegressionModel:\n",
    "    def __init__(self,lr=0.001,epochs=100):\n",
    "        self.lr=lr\n",
    "        self.epochs=epochs\n",
    "        self.weights=0\n",
    "        self.bias=0\n",
    "    def fit(self,x,y):\n",
    "        n_samples,n_features=x.shape\n",
    "        self.weights=np.zeros(n_features)\n",
    "        self.bias=0\n",
    "        for _ in range(self.epochs):\n",
    "            y_pred=np.dot(x,self.weights)+self.bias\n",
    "            dw=(1/n_samples)*np.dot(x.T,(y_pred-y))\n",
    "            db=(1/n_samples)*np.sum(y_pred-y)\n",
    "        self.weights=self.weights-dw*self.lr\n",
    "        self.bias=self.bias-self.lr*db\n",
    "    def predict(self,x):\n",
    "        return np.dot(x,self.weights)+self.bias\n",
    "        return y"
   ]
  },
  {
   "cell_type": "code",
   "execution_count": 42,
   "metadata": {},
   "outputs": [],
   "source": [
    "x=np.array([[2,4,8,12,16]]).reshape(-1,1)\n",
    "y=np.array([4,8,16,24,32])\n",
    "lin_Reg=linearRegression(0.009,10000) \n",
    "lin_Reg.fit(x,y)\n",
    "prediced_line=(lin_Reg.predict(x))"
   ]
  },
  {
   "cell_type": "code",
   "execution_count": 43,
   "metadata": {},
   "outputs": [
    {
     "data": {
      "text/plain": [
       "[<matplotlib.lines.Line2D at 0x17cc8861610>]"
      ]
     },
     "execution_count": 43,
     "metadata": {},
     "output_type": "execute_result"
    },
    {
     "data": {
      "image/png": "[encoded data removed]",
      "text/plain": [
       "<Figure size 1000x500 with 1 Axes>"
      ]
     },
     "metadata": {},
     "output_type": "display_data"
    }
   ],
   "source": [
    "plt.figure(figsize=(10,5))\n",
    "plt.scatter(x,y)\n",
    "plt.plot(x,prediced_line)"
   ]
  },
  {
   "cell_type": "code",
   "execution_count": 47,
   "metadata": {},
   "outputs": [
    {
     "data": {
      "text/plain": [
       "-2.012639999999999"
      ]
     },
     "execution_count": 47,
     "metadata": {},
     "output_type": "execute_result"
    }
   ],
   "source": [
    "def mse(y,y_pred):\n",
    "    return np.sum(y_pred-y)/len(y_pred)\n",
    "mse(y,prediced_line)"
   ]
  },
  {
   "cell_type": "code",
   "execution_count": 3,
   "metadata": {},
   "outputs": [],
   "source": [
    "#KNN \n",
    "import numpy as np\n",
    "from collections import Counter\n",
    "def eucledian_distance(x1,x2):\n",
    "    distance=np.sqrt(np.sum(x1-x2)**2)\n",
    "    return distance\n",
    "class KNN:\n",
    "    def __init__(self,k=3):\n",
    "        self.k=k\n",
    "    def fit(self,x,y):\n",
    "        self.X_train=x\n",
    "        self.y_train=y\n",
    "    def predict(self,X):\n",
    "        predictions=[self.predict_(x) for x in X]\n",
    "        return predictions\n",
    "    def predict_(self,x):\n",
    "        distances=[eucledian_distance(x,x_train) for x_train in self.X_train]\n",
    "        values=np.argsort(distances)[:self.k]\n",
    "        labels=[self.y_train[i] for i in values]\n",
    "        most_common=Counter(labels).most_common()\n",
    "        return most_common[0][0]"
   ]
  },
  {
   "cell_type": "code",
   "execution_count": 4,
   "metadata": {},
   "outputs": [
    {
     "name": "stdout",
     "output_type": "stream",
     "text": [
      "[0, 0, 2, 0, 0, 0, 2, 1, 0, 0, 2, 2, 0, 1, 2, 2, 1, 2, 1, 1, 2, 2, 1, 2, 0, 1, 2, 2, 2, 1]\n",
      "0.9333333333333333\n"
     ]
    }
   ],
   "source": [
    "from sklearn import datasets\n",
    "from sklearn.model_selection import train_test_split\n",
    "import matplotlib.pyplot as plt\n",
    "iris=datasets.load_iris()\n",
    "x,y=iris.data,iris.target\n",
    "x_train,x_test,y_train,y_test=train_test_split(x,y,test_size=0.2)\n",
    "clf=KNN(k=5)\n",
    "clf.fit(x_train,y_train)\n",
    "predictions=clf.predict(x_test)\n",
    "print(predictions)\n",
    "acc=np.sum(predictions==y_test)/len(y_test)\n",
    "print(acc)"
   ]
  }
 ],
 "metadata": {
  "kernelspec": {
   "display_name": "base",
   "language": "python",
   "name": "python3"
  },
  "language_info": {
   "codemirror_mode": {
    "name": "ipython",
    "version": 3
   },
   "file_extension": ".py",
   "mimetype": "text/x-python",
   "name": "python",
   "nbconvert_exporter": "python",
   "pygments_lexer": "ipython3",
   "version": "3.9.13"
  },
  "orig_nbformat": 4
 },
 "nbformat": 4,
 "nbformat_minor": 2
}
