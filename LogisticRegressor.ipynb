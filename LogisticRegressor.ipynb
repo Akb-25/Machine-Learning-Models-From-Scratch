{
 "cells": [
  {
   "cell_type": "code",
   "execution_count": 1,
   "metadata": {},
   "outputs": [],
   "source": [
    "import numpy as np"
   ]
  },
  {
   "cell_type": "code",
   "execution_count": null,
   "metadata": {},
   "outputs": [],
   "source": [
    "class LogisticRegression():\n",
    "    def __init__(self,lr,iter):\n",
    "        self.lr=lr\n",
    "        self.iter=iter\n",
    "    def fit(self,x,y):\n",
    "        self.m,self.n=x.shape\n",
    "        self.w=np.zeros(self.n)\n",
    "        self.b=0\n",
    "        self.X=x\n",
    "        self.Y=y\n",
    "\n",
    "        for i in range(self.iter):\n",
    "            self.updateWeights()\n",
    "    def updateWeughts(self):\n",
    "        y_pr=1/(1+np.exp(-(self.X.dot(self.w)+self.b)))\n",
    "        dw=(1/self.m)*np.dot(self.X.T,(y_pr-self.Y))\n",
    "        db=(1/self.m)*np.sum(y_pr-self.Y)\n",
    "\n",
    "        self.w=self.w-dw*self.lr\n",
    "        self.b=self.b-self.lr(db)\n",
    "    def predict(self,x):\n",
    "        y_pred=1/(1+np.exp(-(X.dot(self.w)+self.b)))\n",
    "        y_pred=np.where(y_pred>0.5,1,0)\n",
    "        return y_pred"
   ]
  }
 ],
 "metadata": {
  "kernelspec": {
   "display_name": "base",
   "language": "python",
   "name": "python3"
  },
  "language_info": {
   "codemirror_mode": {
    "name": "ipython",
    "version": 3
   },
   "file_extension": ".py",
   "mimetype": "text/x-python",
   "name": "python",
   "nbconvert_exporter": "python",
   "pygments_lexer": "ipython3",
   "version": "3.9.13"
  }
 },
 "nbformat": 4,
 "nbformat_minor": 2
}
