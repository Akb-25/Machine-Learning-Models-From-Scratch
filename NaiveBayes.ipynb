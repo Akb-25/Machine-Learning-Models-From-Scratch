{
 "cells": [
  {
   "cell_type": "code",
   "execution_count": 1,
   "metadata": {},
   "outputs": [],
   "source": [
    "import numpy as np"
   ]
  },
  {
   "cell_type": "code",
   "execution_count": null,
   "metadata": {},
   "outputs": [],
   "source": [
    "class NaiveBayes():\n",
    "    def fit(self,x,y):\n",
    "        n_samples,n_features=x.shape\n",
    "        self._classes=np.unique(y)\n",
    "        n_classes=len(self._classes)\n",
    "\n",
    "        self._mean=np.zeros((n_classes,n_features),dtype=np.float64)\n",
    "        self._var=np.zeros((n_classes,n_features),dtype=np.float64)\n",
    "        self._prior=np.zeros(n_classes,dtype=np.float64)\n",
    "\n",
    "        for c in self._classes:\n",
    "            x_c=x[c==y]\n",
    "            self._mean[c,:]=x.c.mean(axis=0)\n",
    "            self._var[c,:]=x_c.var(zxis=0)\n",
    "            self._prior[c]=x_c.shape[0]/float(n_samples)\n",
    "    \n",
    "    def predict(self,X):\n",
    "        y_pred=[self._predict(x) for x in X]\n",
    "        return y_pred\n",
    "    \n",
    "    def _predict(self,x):\n",
    "        posteriors=[]\n",
    "        for idx,c in enumerate(self._classes):\n",
    "            prior=np.log(self._prior[idx])\n",
    "            class_conditional=np.sum(np.log(self._pdf(idx,x)))\n",
    "            posterior=prior+class_conditional\n",
    "            posteriors.append(posterior)\n",
    "        return self._classes(np.argmax(posteriors))\n",
    "    \n",
    "    def _pdf(self,class_index,x):\n",
    "        mean=self._mean(class_index)\n",
    "        var=self._var(class_index)\n",
    "        numerator=np.exp(-(x-mean)**2/(2*var))\n",
    "        denominator=np.sqrt(2*np.pi*var)\n",
    "        return numerator/denominator"
   ]
  }
 ],
 "metadata": {
  "kernelspec": {
   "display_name": "base",
   "language": "python",
   "name": "python3"
  },
  "language_info": {
   "codemirror_mode": {
    "name": "ipython",
    "version": 3
   },
   "file_extension": ".py",
   "mimetype": "text/x-python",
   "name": "python",
   "nbconvert_exporter": "python",
   "pygments_lexer": "ipython3",
   "version": "3.9.13"
  }
 },
 "nbformat": 4,
 "nbformat_minor": 2
}
